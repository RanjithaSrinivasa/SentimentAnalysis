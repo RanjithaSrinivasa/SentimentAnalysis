{
 "cells": [
  {
   "cell_type": "code",
   "execution_count": null,
   "metadata": {},
   "outputs": [],
   "source": [
    "import tweepy\n",
    "import json\n",
    "import requests\n",
    "import csv\n",
    "CONSUMER_KEY= '8khdUqNZXj8UgLwp2K0BFGdVh'\n",
    "CONSUMER_SECRET= 'TGrVqKKq5mX737GLXsYLadQK1pBZFLfSpy5snqr6X2mwI3GDZ6'\n",
    "ACCESS_TOKEN='1232024497575940096-f34HOxXdP5jYUj00ROzjjI0faJDwCr'\n",
    "ACCESS_TOKEN_SECRET='HeOgwcieetkDF0NO9HWTSOnwELQxzlUmcytGQjTBvlX40'\n",
    "\n",
    "# Authenticate to Twitter\n",
    "auth = tweepy.OAuthHandler(CONSUMER_KEY, CONSUMER_SECRET)\n",
    "#print(auth.)\n",
    "auth.set_access_token(ACCESS_TOKEN, ACCESS_TOKEN_SECRET)\n",
    "api = tweepy.API(auth)\n",
    "# test authentication\n",
    "try:\n",
    "    api.verify_credentials()\n",
    "    print(\"Authentication OK\")\n",
    "except:\n",
    "    print(\"Error during authentication\")\n",
    "\n",
    "#json_data=api.search(q=\"#self-driving cars\", lang=\"en\", rpp=5)\n",
    "\n",
    "# Open/Create a file to append data\n",
    "csvFile = open('self-driving-cars.csv', 'a')\n",
    "#Use csv Writer\n",
    "csvWriter = csv.writer(csvFile)\n",
    "\n",
    "searchterms = \"selfdrivingcars OR autonomouscars\"\n",
    "for tweet in tweepy.Cursor(api.search,q=searchterms,count=100,\n",
    "                           lang=\"en\",\n",
    "                           since=\"2017-04-03\").items():\n",
    "    if (not tweet.retweeted) and ('RT @' not in tweet.text):\n",
    "        print (tweet.created_at, tweet.text)\n",
    "        csvWriter.writerow([tweet.created_at, tweet.text.encode('utf-8')])"
   ]
  }
 ],
 "metadata": {
  "kernelspec": {
   "display_name": "Python 3",
   "language": "python",
   "name": "python3"
  },
  "language_info": {
   "codemirror_mode": {
    "name": "ipython",
    "version": 3
   },
   "file_extension": ".py",
   "mimetype": "text/x-python",
   "name": "python",
   "nbconvert_exporter": "python",
   "pygments_lexer": "ipython3",
   "version": "3.7.4"
  }
 },
 "nbformat": 4,
 "nbformat_minor": 2
}
